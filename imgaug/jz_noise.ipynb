{
 "cells": [
  {
   "cell_type": "code",
   "execution_count": 1,
   "metadata": {},
   "outputs": [],
   "source": [
    "import numpy as np\n",
    "import random\n",
    "import os\n",
    "import cv2\n",
    "from skimage import io\n",
    "from skimage import transform\n",
    "import matplotlib.pyplot as plt"
   ]
  },
  {
   "cell_type": "code",
   "execution_count": 2,
   "metadata": {},
   "outputs": [],
   "source": [
    "def sp_noise(image,prob=0.1):\n",
    "    '''\n",
    "    添加椒盐噪声\n",
    "    prob:噪声比例 \n",
    "    '''\n",
    "    output = np.zeros(image.shape,np.uint8)\n",
    "    thres = 1 - prob \n",
    "    for i in range(image.shape[0]):\n",
    "        for j in range(image.shape[1]):\n",
    "            rdn = random.random()\n",
    "            if rdn < prob:\n",
    "                output[i][j] = 0\n",
    "            elif rdn > thres:\n",
    "                output[i][j] = 255\n",
    "            else:\n",
    "                output[i][j] = image[i][j]\n",
    "    return output\n",
    "\n",
    "\n",
    "def gasuss_noise(image, mean=0, var=0.01):\n",
    "    ''' \n",
    "        添加高斯噪声\n",
    "        mean : 均值 \n",
    "        var : 方差\n",
    "    '''\n",
    "    image = np.array(image/255, dtype=float)\n",
    "    noise = np.random.normal(mean, var ** 0.5, image.shape)\n",
    "    out = image + noise\n",
    "    if out.min() < 0:\n",
    "        low_clip = -1.\n",
    "    else:\n",
    "        low_clip = 0.\n",
    "    out = np.clip(out, low_clip, 1.0)\n",
    "    out = np.uint8(out*255)\n",
    "    #cv.imshow(\"gasuss\", out)\n",
    "    return out"
   ]
  },
  {
   "cell_type": "code",
   "execution_count": 3,
   "metadata": {},
   "outputs": [],
   "source": [
    "dataset_path = 'd:/datasets/jz20/'\n",
    "path_list = os.listdir(dataset_path)"
   ]
  },
  {
   "cell_type": "code",
   "execution_count": 4,
   "metadata": {},
   "outputs": [],
   "source": [
    "for path in path_list:\n",
    "    file_list = os.listdir(dataset_path + path + '/')\n",
    "    for file_name in file_list:\n",
    "        file_name2 = dataset_path + path + '/' + file_name\n",
    "        img_src=io.imread(file_name2)\n",
    "        img_dst_1=sp_noise(img_src)        \n",
    "        cv2.imencode('.jpg', img_dst_1[:,:,::-1])[1].tofile(dataset_path + path + '/' + file_name[:-4] + '_1.jpg')\n",
    "        img_dst_2=gasuss_noise(img_src)        \n",
    "        cv2.imencode('.jpg', img_dst_2[:,:,::-1])[1].tofile(dataset_path + path + '/' + file_name[:-4] + '_2.jpg')"
   ]
  },
  {
   "cell_type": "code",
   "execution_count": null,
   "metadata": {},
   "outputs": [],
   "source": []
  },
  {
   "cell_type": "code",
   "execution_count": null,
   "metadata": {},
   "outputs": [],
   "source": []
  }
 ],
 "metadata": {
  "kernelspec": {
   "display_name": "Python 3",
   "language": "python",
   "name": "python3"
  },
  "language_info": {
   "codemirror_mode": {
    "name": "ipython",
    "version": 3
   },
   "file_extension": ".py",
   "mimetype": "text/x-python",
   "name": "python",
   "nbconvert_exporter": "python",
   "pygments_lexer": "ipython3",
   "version": "3.7.9"
  }
 },
 "nbformat": 4,
 "nbformat_minor": 4
}
