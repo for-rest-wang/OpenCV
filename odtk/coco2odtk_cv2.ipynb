{
 "cells": [
  {
   "cell_type": "code",
   "execution_count": 58,
   "metadata": {},
   "outputs": [],
   "source": [
    "from lxml import etree\n",
    "import json\n",
    "import time\n",
    "import os\n",
    "import cv2\n",
    "import math\n",
    "\n",
    "import pandas as pd\n",
    "import numpy as np"
   ]
  },
  {
   "cell_type": "code",
   "execution_count": 70,
   "metadata": {},
   "outputs": [],
   "source": [
    "json_path = 'D:\\\\datasets\\\\nut\\\\trainval.json'\n",
    "image_path = 'D:\\\\datasets\\\\nut\\\\images\\\\'\n",
    "target_path = 'D:\\\\datasets\\\\nut\\\\odtk\\\\'"
   ]
  },
  {
   "cell_type": "code",
   "execution_count": 74,
   "metadata": {},
   "outputs": [],
   "source": [
    "with open(json_path,'r') as f:\n",
    "    json_dict = json.load(f)"
   ]
  },
  {
   "cell_type": "code",
   "execution_count": 75,
   "metadata": {},
   "outputs": [],
   "source": [
    "#calc_bearing是一个用arctan求θ的简单函数。你必须把函数封装起来以确保w和h是正的，并且theta在-pi/2到pi/2或者-pi到pi的范围内。\n",
    "def calc_bearing(pointA, pointB):\n",
    "    delta_x = -abs(pointA[0]-pointB[0])\n",
    "    delta_y = -abs(pointA[1]-pointB[1])\n",
    "#     if delta_x<delta_y:\n",
    "#         bearing = math.atan2(delta_x,delta_y)\n",
    "#         print(1,delta_x,delta_y)\n",
    "#     else:\n",
    "#         bearing = math.atan2(delta_y,delta_x)\n",
    "#         print(2,delta_x,delta_y)\n",
    "    bearing = math.atan2(delta_y,delta_x)\n",
    "    return bearing\n",
    "\n",
    "def _corners2rotatedbbox(corners):\n",
    "    centre = np.mean(np.array(corners), 0)\n",
    "    theta = calc_bearing(corners[0], corners[1])\n",
    "    rotation = np.array([[np.cos(theta), -np.sin(theta)],\n",
    "                        [np.sin(theta), np.cos(theta)]])\n",
    "    out_points = np.matmul(corners - centre, rotation) + centre\n",
    "    x, y = list(out_points[0,:])\n",
    "    w, h = list(out_points[2, :] - out_points[0, :])\n",
    "    return [x, y, w, h, theta]"
   ]
  },
  {
   "cell_type": "code",
   "execution_count": 95,
   "metadata": {},
   "outputs": [],
   "source": [
    "anno_list = json_dict['annotations']\n",
    "\n",
    "for i in anno_list:\n",
    "    seg = i['segmentation']\n",
    "    cnt = np.reshape(np.float32(seg),(-1,2))\n",
    "    rect = cv2.minAreaRect(cnt)\n",
    "    box = cv2.boxPoints(rect)\n",
    "    \n",
    "    rbox = _corners2rotatedbbox(box)\n",
    "    i['bbox'] = list(rbox)\n",
    "    i['segmentation'] = list(box.flatten())"
   ]
  },
  {
   "cell_type": "code",
   "execution_count": 96,
   "metadata": {},
   "outputs": [],
   "source": [
    "class NpEncoder(json.JSONEncoder):\n",
    "    def default(self, obj):\n",
    "        if isinstance(obj, np.integer):\n",
    "            return int(obj)\n",
    "        elif isinstance(obj, np.floating):\n",
    "            return float(obj)\n",
    "        elif isinstance(obj, np.ndarray):\n",
    "            return obj.tolist()\n",
    "        else:\n",
    "            return super(NpEncoder, self).default(obj)"
   ]
  },
  {
   "cell_type": "code",
   "execution_count": 97,
   "metadata": {},
   "outputs": [],
   "source": [
    "with open('D:\\\\datasets\\\\nut\\\\rbox_trainval.json','w') as f:\n",
    "    json.dump(json_dict,f, cls=NpEncoder)"
   ]
  }
 ],
 "metadata": {
  "kernelspec": {
   "display_name": "Python 3",
   "language": "python",
   "name": "python3"
  },
  "language_info": {
   "codemirror_mode": {
    "name": "ipython",
    "version": 3
   },
   "file_extension": ".py",
   "mimetype": "text/x-python",
   "name": "python",
   "nbconvert_exporter": "python",
   "pygments_lexer": "ipython3",
   "version": "3.7.9"
  }
 },
 "nbformat": 4,
 "nbformat_minor": 4
}
